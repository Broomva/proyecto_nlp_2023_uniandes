{
 "cells": [
  {
   "cell_type": "code",
   "execution_count": 6,
   "metadata": {},
   "outputs": [],
   "source": [
    "import json\n",
    "import pandas as pd\n",
    "from sklearn.model_selection import train_test_split"
   ]
  },
  {
   "cell_type": "code",
   "execution_count": 7,
   "metadata": {},
   "outputs": [],
   "source": [
    "raw_dataset_path = 'spa_pbb_dataset.csv'"
   ]
  },
  {
   "cell_type": "code",
   "execution_count": 8,
   "metadata": {},
   "outputs": [],
   "source": [
    "# Load the CSV file\n",
    "df = pd.read_csv(raw_dataset_path, sep='|')\n",
    "\n",
    "# Create the 'id' column\n",
    "df['id'] = df.index\n",
    "\n",
    "# Create the 'translation' column as expected by T5, Bart, MT5 models\n",
    "df['translation'] = df[['spa', 'pbb']].apply(lambda row: {\"spa\": row['spa'], \"pbb\": row['pbb']}, axis=1)\n",
    "\n",
    "translation_df = df[['id', 'translation']]\n",
    "\n",
    "#%%\n",
    "#translation_df.to_csv('spa_pbb_dataset_translation.csv', sep='|', index=False)"
   ]
  },
  {
   "cell_type": "code",
   "execution_count": 9,
   "metadata": {},
   "outputs": [],
   "source": [
    "\n",
    "translation_spa_pbb_train, translation_spa_pbb_test = train_test_split(translation_df, test_size=0.2, random_state=42)\n",
    "translation_spa_pbb_train, translation_spa_pbb_val = train_test_split(translation_spa_pbb_train, test_size=0.2, random_state=42)\n",
    "\n",
    "#%%\n",
    "translation_spa_pbb_train.reset_index(drop=True, inplace=True)\n",
    "translation_spa_pbb_val.reset_index(drop=True, inplace=True)\n",
    "translation_spa_pbb_test.reset_index(drop=True, inplace=True)\n",
    "\n",
    "# %%\n",
    "from datasets import Dataset, DatasetDict\n",
    "\n",
    "dataset = DatasetDict(\n",
    "    {\n",
    "        \"train\": Dataset.from_pandas(translation_spa_pbb_train),\n",
    "        \"validation\": Dataset.from_pandas(translation_spa_pbb_val),\n",
    "        \"test\": Dataset.from_pandas(translation_spa_pbb_test),\n",
    "    }\n",
    ")"
   ]
  },
  {
   "cell_type": "code",
   "execution_count": 11,
   "metadata": {},
   "outputs": [
    {
     "data": {
      "application/vnd.jupyter.widget-view+json": {
       "model_id": "592ed819a5284c13b4490ad756afaa6f",
       "version_major": 2,
       "version_minor": 0
      },
      "text/plain": [
       "Pushing dataset shards to the dataset hub:   0%|          | 0/1 [00:00<?, ?it/s]"
      ]
     },
     "metadata": {},
     "output_type": "display_data"
    },
    {
     "data": {
      "application/vnd.jupyter.widget-view+json": {
       "model_id": "dd9e7ba8f49f4c6fa4865b9ead52b95d",
       "version_major": 2,
       "version_minor": 0
      },
      "text/plain": [
       "Creating parquet from Arrow format:   0%|          | 0/3 [00:00<?, ?ba/s]"
      ]
     },
     "metadata": {},
     "output_type": "display_data"
    },
    {
     "data": {
      "application/vnd.jupyter.widget-view+json": {
       "model_id": "fffe254384d84a709ed14498e1d0d96c",
       "version_major": 2,
       "version_minor": 0
      },
      "text/plain": [
       "Pushing dataset shards to the dataset hub:   0%|          | 0/1 [00:00<?, ?it/s]"
      ]
     },
     "metadata": {},
     "output_type": "display_data"
    },
    {
     "data": {
      "application/vnd.jupyter.widget-view+json": {
       "model_id": "78a01dfc6122400e9c4a31a2ed7bc1e2",
       "version_major": 2,
       "version_minor": 0
      },
      "text/plain": [
       "Creating parquet from Arrow format:   0%|          | 0/1 [00:00<?, ?ba/s]"
      ]
     },
     "metadata": {},
     "output_type": "display_data"
    },
    {
     "data": {
      "application/vnd.jupyter.widget-view+json": {
       "model_id": "44592b752647403b87a37bbe2fe8dac4",
       "version_major": 2,
       "version_minor": 0
      },
      "text/plain": [
       "Pushing dataset shards to the dataset hub:   0%|          | 0/1 [00:00<?, ?it/s]"
      ]
     },
     "metadata": {},
     "output_type": "display_data"
    },
    {
     "data": {
      "application/vnd.jupyter.widget-view+json": {
       "model_id": "419c38ed79d24fa7a74a8187c3698853",
       "version_major": 2,
       "version_minor": 0
      },
      "text/plain": [
       "Creating parquet from Arrow format:   0%|          | 0/1 [00:00<?, ?ba/s]"
      ]
     },
     "metadata": {},
     "output_type": "display_data"
    }
   ],
   "source": [
    "dataset.push_to_hub(\"translation_pbb_spa\")\n",
    "# %%\n"
   ]
  }
 ],
 "metadata": {
  "kernelspec": {
   "display_name": "nlp",
   "language": "python",
   "name": "python3"
  },
  "language_info": {
   "codemirror_mode": {
    "name": "ipython",
    "version": 3
   },
   "file_extension": ".py",
   "mimetype": "text/x-python",
   "name": "python",
   "nbconvert_exporter": "python",
   "pygments_lexer": "ipython3",
   "version": "3.11.4"
  }
 },
 "nbformat": 4,
 "nbformat_minor": 2
}
